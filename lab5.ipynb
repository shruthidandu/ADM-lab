{
  "nbformat": 4,
  "nbformat_minor": 0,
  "metadata": {
    "colab": {
      "provenance": [],
      "authorship_tag": "ABX9TyO0c3Jyzd/Yxx+iIJ7YA81j",
      "include_colab_link": true
    },
    "kernelspec": {
      "name": "python3",
      "display_name": "Python 3"
    },
    "language_info": {
      "name": "python"
    }
  },
  "cells": [
    {
      "cell_type": "markdown",
      "metadata": {
        "id": "view-in-github",
        "colab_type": "text"
      },
      "source": [
        "<a href=\"https://colab.research.google.com/github/shruthidandu/ADM-lab/blob/main/lab5.ipynb\" target=\"_parent\"><img src=\"https://colab.research.google.com/assets/colab-badge.svg\" alt=\"Open In Colab\"/></a>"
      ]
    },
    {
      "cell_type": "code",
      "source": [
        "import pandas as pd\n",
        "from mlxtend.preprocessing import TransactionEncoder # TransactionEncoder has been moved to mlxtend.preprocessing\n",
        "from mlxtend.frequent_patterns import apriori, association_rules"
      ],
      "metadata": {
        "colab": {
          "base_uri": "https://localhost:8080/"
        },
        "id": "-2W_uAJGich_",
        "outputId": "660f6cef-7505-4c4f-c07f-0ec57b06921d"
      },
      "execution_count": 3,
      "outputs": [
        {
          "output_type": "stream",
          "name": "stderr",
          "text": [
            "/usr/local/lib/python3.11/dist-packages/ipykernel/ipkernel.py:283: DeprecationWarning: `should_run_async` will not call `transform_cell` automatically in the future. Please pass the result to `transformed_cell` argument and any exception that happen during thetransform in `preprocessing_exc_tuple` in IPython 7.17 and above.\n",
            "  and should_run_async(code)\n"
          ]
        }
      ]
    },
    {
      "cell_type": "code",
      "source": [
        "# Example transaction data\n",
        "dataset = [\n",
        "    ['milk', 'bread', 'butter'],\n",
        "    ['milk', 'bread'],\n",
        "    ['bread', 'butter'],\n",
        "    ['milk', 'bread', 'butter', 'jam'],\n",
        "    ['milk', 'bread', 'jam']\n",
        "]\n"
      ],
      "metadata": {
        "colab": {
          "base_uri": "https://localhost:8080/"
        },
        "id": "RUL94_vpihCM",
        "outputId": "c1c03e2f-9156-42ae-e824-594ebec3f79f"
      },
      "execution_count": 4,
      "outputs": [
        {
          "output_type": "stream",
          "name": "stderr",
          "text": [
            "/usr/local/lib/python3.11/dist-packages/ipykernel/ipkernel.py:283: DeprecationWarning: `should_run_async` will not call `transform_cell` automatically in the future. Please pass the result to `transformed_cell` argument and any exception that happen during thetransform in `preprocessing_exc_tuple` in IPython 7.17 and above.\n",
            "  and should_run_async(code)\n"
          ]
        }
      ]
    },
    {
      "cell_type": "code",
      "source": [
        "# Convert the dataset into a pandas dataframe\n",
        "te = TransactionEncoder()\n",
        "te_ary = te.fit(dataset).transform(dataset)\n",
        "df = pd.DataFrame(te_ary, columns=te.columns_)\n",
        "\n"
      ],
      "metadata": {
        "colab": {
          "base_uri": "https://localhost:8080/"
        },
        "id": "N2tVTyT_imG0",
        "outputId": "126c1112-1965-4784-aadd-a28a11681aac"
      },
      "execution_count": 5,
      "outputs": [
        {
          "output_type": "stream",
          "name": "stderr",
          "text": [
            "/usr/local/lib/python3.11/dist-packages/ipykernel/ipkernel.py:283: DeprecationWarning: `should_run_async` will not call `transform_cell` automatically in the future. Please pass the result to `transformed_cell` argument and any exception that happen during thetransform in `preprocessing_exc_tuple` in IPython 7.17 and above.\n",
            "  and should_run_async(code)\n"
          ]
        }
      ]
    },
    {
      "cell_type": "code",
      "source": [
        "# Apply the Apriori algorithm to find frequent itemsets with a minimum support of 0.3\n",
        "frequent_itemsets = apriori(df, min_support=0.3, use_colnames=True)\n"
      ],
      "metadata": {
        "colab": {
          "base_uri": "https://localhost:8080/"
        },
        "id": "1HeVhylaiwSO",
        "outputId": "cf9ff9d6-dc35-4bad-e823-93c7eadbb438"
      },
      "execution_count": 6,
      "outputs": [
        {
          "output_type": "stream",
          "name": "stderr",
          "text": [
            "/usr/local/lib/python3.11/dist-packages/ipykernel/ipkernel.py:283: DeprecationWarning: `should_run_async` will not call `transform_cell` automatically in the future. Please pass the result to `transformed_cell` argument and any exception that happen during thetransform in `preprocessing_exc_tuple` in IPython 7.17 and above.\n",
            "  and should_run_async(code)\n"
          ]
        }
      ]
    },
    {
      "cell_type": "code",
      "source": [
        "# Print frequent itemsets\n",
        "print(\"Frequent Itemsets:\")\n",
        "print(frequent_itemsets)\n"
      ],
      "metadata": {
        "colab": {
          "base_uri": "https://localhost:8080/"
        },
        "id": "92jrCDmqiyaD",
        "outputId": "35ca8b6b-65c3-4c75-a501-003de67a38b0"
      },
      "execution_count": 7,
      "outputs": [
        {
          "output_type": "stream",
          "name": "stdout",
          "text": [
            "Frequent Itemsets:\n",
            "    support               itemsets\n",
            "0       1.0                (bread)\n",
            "1       0.6               (butter)\n",
            "2       0.4                  (jam)\n",
            "3       0.8                 (milk)\n",
            "4       0.6        (bread, butter)\n",
            "5       0.4           (bread, jam)\n",
            "6       0.8          (bread, milk)\n",
            "7       0.4         (butter, milk)\n",
            "8       0.4            (milk, jam)\n",
            "9       0.4  (bread, butter, milk)\n",
            "10      0.4     (bread, milk, jam)\n"
          ]
        },
        {
          "output_type": "stream",
          "name": "stderr",
          "text": [
            "/usr/local/lib/python3.11/dist-packages/ipykernel/ipkernel.py:283: DeprecationWarning: `should_run_async` will not call `transform_cell` automatically in the future. Please pass the result to `transformed_cell` argument and any exception that happen during thetransform in `preprocessing_exc_tuple` in IPython 7.17 and above.\n",
            "  and should_run_async(code)\n"
          ]
        }
      ]
    },
    {
      "cell_type": "code",
      "source": [
        "# Generate association rules with a minimum confidence of 0.7\n",
        "rules = association_rules(frequent_itemsets, metric=\"confidence\", min_threshold=0.7)\n"
      ],
      "metadata": {
        "colab": {
          "base_uri": "https://localhost:8080/"
        },
        "id": "ztSzmhGTi2Bw",
        "outputId": "12992447-893b-44fa-cff9-850f16b6846c"
      },
      "execution_count": 8,
      "outputs": [
        {
          "output_type": "stream",
          "name": "stderr",
          "text": [
            "/usr/local/lib/python3.11/dist-packages/ipykernel/ipkernel.py:283: DeprecationWarning: `should_run_async` will not call `transform_cell` automatically in the future. Please pass the result to `transformed_cell` argument and any exception that happen during thetransform in `preprocessing_exc_tuple` in IPython 7.17 and above.\n",
            "  and should_run_async(code)\n",
            "/usr/local/lib/python3.11/dist-packages/mlxtend/frequent_patterns/association_rules.py:186: RuntimeWarning: invalid value encountered in divide\n",
            "  cert_metric = np.where(certainty_denom == 0, 0, certainty_num / certainty_denom)\n"
          ]
        }
      ]
    },
    {
      "cell_type": "code",
      "source": [
        "# Print association rules\n",
        "print(\"\\nAssociation Rules:\")\n",
        "print(rules)\n"
      ],
      "metadata": {
        "colab": {
          "base_uri": "https://localhost:8080/"
        },
        "id": "ea3GbLO4i7Ie",
        "outputId": "25155e73-d3f0-4ca8-dbb1-6a5100e9261c"
      },
      "execution_count": 9,
      "outputs": [
        {
          "output_type": "stream",
          "name": "stdout",
          "text": [
            "\n",
            "Association Rules:\n",
            "      antecedents    consequents  antecedent support  consequent support  \\\n",
            "0        (butter)        (bread)                 0.6                 1.0   \n",
            "1           (jam)        (bread)                 0.4                 1.0   \n",
            "2         (bread)         (milk)                 1.0                 0.8   \n",
            "3          (milk)        (bread)                 0.8                 1.0   \n",
            "4           (jam)         (milk)                 0.4                 0.8   \n",
            "5  (butter, milk)        (bread)                 0.4                 1.0   \n",
            "6    (bread, jam)         (milk)                 0.4                 0.8   \n",
            "7     (milk, jam)        (bread)                 0.4                 1.0   \n",
            "8           (jam)  (bread, milk)                 0.4                 0.8   \n",
            "\n",
            "   support  confidence  lift  representativity  leverage  conviction  \\\n",
            "0      0.6         1.0  1.00               1.0      0.00         inf   \n",
            "1      0.4         1.0  1.00               1.0      0.00         inf   \n",
            "2      0.8         0.8  1.00               1.0      0.00         1.0   \n",
            "3      0.8         1.0  1.00               1.0      0.00         inf   \n",
            "4      0.4         1.0  1.25               1.0      0.08         inf   \n",
            "5      0.4         1.0  1.00               1.0      0.00         inf   \n",
            "6      0.4         1.0  1.25               1.0      0.08         inf   \n",
            "7      0.4         1.0  1.00               1.0      0.00         inf   \n",
            "8      0.4         1.0  1.25               1.0      0.08         inf   \n",
            "\n",
            "   zhangs_metric  jaccard  certainty  kulczynski  \n",
            "0       0.000000      0.6        0.0        0.80  \n",
            "1       0.000000      0.4        0.0        0.70  \n",
            "2       0.000000      0.8        0.0        0.90  \n",
            "3       0.000000      0.8        0.0        0.90  \n",
            "4       0.333333      0.5        1.0        0.75  \n",
            "5       0.000000      0.4        0.0        0.70  \n",
            "6       0.333333      0.5        1.0        0.75  \n",
            "7       0.000000      0.4        0.0        0.70  \n",
            "8       0.333333      0.5        1.0        0.75  \n"
          ]
        },
        {
          "output_type": "stream",
          "name": "stderr",
          "text": [
            "/usr/local/lib/python3.11/dist-packages/ipykernel/ipkernel.py:283: DeprecationWarning: `should_run_async` will not call `transform_cell` automatically in the future. Please pass the result to `transformed_cell` argument and any exception that happen during thetransform in `preprocessing_exc_tuple` in IPython 7.17 and above.\n",
            "  and should_run_async(code)\n"
          ]
        }
      ]
    },
    {
      "cell_type": "code",
      "source": [
        "# Calculate additional metrics (support, confidence, lift)\n",
        "rules['support'] = rules['support']\n",
        "rules['confidence'] = rules['confidence']\n",
        "rules['lift'] = rules['lift']\n"
      ],
      "metadata": {
        "colab": {
          "base_uri": "https://localhost:8080/"
        },
        "id": "0W4YATEXi-TR",
        "outputId": "ed59e080-c88f-4e44-f1c5-e74e7280b598"
      },
      "execution_count": 10,
      "outputs": [
        {
          "output_type": "stream",
          "name": "stderr",
          "text": [
            "/usr/local/lib/python3.11/dist-packages/ipykernel/ipkernel.py:283: DeprecationWarning: `should_run_async` will not call `transform_cell` automatically in the future. Please pass the result to `transformed_cell` argument and any exception that happen during thetransform in `preprocessing_exc_tuple` in IPython 7.17 and above.\n",
            "  and should_run_async(code)\n"
          ]
        }
      ]
    },
    {
      "cell_type": "code",
      "source": [
        "# Display the final rules with support, confidence, and lift\n",
        "print(\"\\nAssociation Rules with Support, Confidence, and Lift:\")\n",
        "print(rules[['antecedents', 'consequents', 'support', 'confidence', 'lift']])"
      ],
      "metadata": {
        "colab": {
          "base_uri": "https://localhost:8080/"
        },
        "id": "eFhECTZYjCFr",
        "outputId": "1fbaaecd-1d53-4d15-ec8d-40d1977aa2c2"
      },
      "execution_count": 12,
      "outputs": [
        {
          "output_type": "stream",
          "name": "stdout",
          "text": [
            "\n",
            "Association Rules with Support, Confidence, and Lift:\n",
            "      antecedents    consequents  support  confidence  lift\n",
            "0        (butter)        (bread)      0.6         1.0  1.00\n",
            "1           (jam)        (bread)      0.4         1.0  1.00\n",
            "2         (bread)         (milk)      0.8         0.8  1.00\n",
            "3          (milk)        (bread)      0.8         1.0  1.00\n",
            "4           (jam)         (milk)      0.4         1.0  1.25\n",
            "5  (butter, milk)        (bread)      0.4         1.0  1.00\n",
            "6    (bread, jam)         (milk)      0.4         1.0  1.25\n",
            "7     (milk, jam)        (bread)      0.4         1.0  1.00\n",
            "8           (jam)  (bread, milk)      0.4         1.0  1.25\n"
          ]
        },
        {
          "output_type": "stream",
          "name": "stderr",
          "text": [
            "/usr/local/lib/python3.11/dist-packages/ipykernel/ipkernel.py:283: DeprecationWarning: `should_run_async` will not call `transform_cell` automatically in the future. Please pass the result to `transformed_cell` argument and any exception that happen during thetransform in `preprocessing_exc_tuple` in IPython 7.17 and above.\n",
            "  and should_run_async(code)\n"
          ]
        }
      ]
    }
  ]
}